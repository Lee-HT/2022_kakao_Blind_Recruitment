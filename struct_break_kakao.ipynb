{
  "nbformat": 4,
  "nbformat_minor": 0,
  "metadata": {
    "colab": {
      "provenance": [],
      "collapsed_sections": [],
      "authorship_tag": "ABX9TyOeBMkLtmSeUHmg/lHyozTV"
    },
    "kernelspec": {
      "name": "python3",
      "display_name": "Python 3"
    },
    "language_info": {
      "name": "python"
    }
  },
  "cells": [
    {
      "cell_type": "code",
      "execution_count": null,
      "metadata": {
        "id": "d9sUtilmDeLz"
      },
      "outputs": [],
      "source": [
        "def dsum(r1,c1,r2,c2,degree):\n",
        "    global acsum\n",
        "    acsum[r1][c1] += degree\n",
        "    acsum[r1][c2] -= degree\n",
        "    acsum[r2][c1] -= degree\n",
        "    acsum[r2][c2] += degree\n",
        "\n",
        "def Sum(atype,r1,c1,r2,c2,degree):\n",
        "    r2 += 1\n",
        "    c2 += 1\n",
        "    if atype == 2:\n",
        "        dsum(r1,c1,r2,c2,degree)\n",
        "    else:\n",
        "        dsum(r1,c1,r2,c2,-degree)\n",
        "\n",
        "def res_sum(H,W):\n",
        "    global acsum\n",
        "    for h in range(H):\n",
        "        s = 0\n",
        "        for w in range(W):\n",
        "            n = acsum[h][w]\n",
        "            n = s + n\n",
        "            acsum[h][w] = n\n",
        "            s = n\n",
        "    for w in range(W):\n",
        "        s = 0\n",
        "        for h in range(H):\n",
        "            n = acsum[h][w]\n",
        "            n = s + n\n",
        "            acsum[h][w] = n\n",
        "            s = n\n",
        "    \n",
        "def fin_sum(board,H,W):\n",
        "    global acsum\n",
        "    answer = 0\n",
        "    for h in range(H):\n",
        "        for w in range(W):\n",
        "            board[h][w] += acsum[h][w]\n",
        "            if board[h][w] > 0:\n",
        "                answer += 1\n",
        "    return answer\n",
        "           \n",
        "    \n",
        "acsum = []\n",
        "\n",
        "def solution(board, skill):\n",
        "    global acsum\n",
        "    H = len(board)\n",
        "    W = len(board[0])\n",
        "    acsum = [[0 for j in range(W+1)] for i in range(H+1)]\n",
        "    \n",
        "    for s in skill:\n",
        "        Sum(s[0],s[1],s[2],s[3],s[4],s[5])\n",
        "        \n",
        "    acsum = [i[:-1] for i in acsum[:-1]]\n",
        "    res_sum(H,W)\n",
        "    answer = fin_sum(board,H,W)\n",
        "    return answer"
      ]
    }
  ]
}