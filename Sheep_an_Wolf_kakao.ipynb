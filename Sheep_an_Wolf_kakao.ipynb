{
  "nbformat": 4,
  "nbformat_minor": 0,
  "metadata": {
    "colab": {
      "provenance": [],
      "collapsed_sections": [],
      "authorship_tag": "ABX9TyMs09wk0VNszO1dNx21TKd7"
    },
    "kernelspec": {
      "name": "python3",
      "display_name": "Python 3"
    },
    "language_info": {
      "name": "python"
    }
  },
  "cells": [
    {
      "cell_type": "code",
      "execution_count": null,
      "metadata": {
        "id": "Mfpne0usChpk"
      },
      "outputs": [],
      "source": [
        "class NODE:\n",
        "    Max = 0\n",
        "    info = []\n",
        "    edge = []\n",
        "    def __init__(self,num,sheep,wolf,nodes):\n",
        "        self.num = num\n",
        "        self.sheep = sheep\n",
        "        self.wolf = wolf\n",
        "        self.nodes = nodes\n",
        "        \n",
        "    def check(self):\n",
        "        if self.sheep > self.wolf:\n",
        "            return True\n",
        "        return False\n",
        "    \n",
        "    def add(self,cur):\n",
        "        self.sheep += cur ^ 1\n",
        "        self.wolf += cur\n",
        "        \n",
        "    def Maxcheck(self):\n",
        "        NODE.Max = self.sheep if self.sheep > NODE.Max else NODE.Max\n",
        "def solution(info, edges):\n",
        "    edge = [[] for i in range(len(info))]\n",
        "    \n",
        "    for i in edges:\n",
        "        edge[i[0]].append(i[1])\n",
        "        \n",
        "    NODE.edge = edge\n",
        "    NODE.info = info\n",
        "    \n",
        "    DFS(NODE(0,0,0,edge[0]))\n",
        "    answer = NODE.Max\n",
        "    print(answer)\n",
        "    return answer\n",
        "\n",
        "def DFS(Node):\n",
        "    cur = NODE.info[Node.num]\n",
        "    Node.add(cur)\n",
        "    \n",
        "    if Node.check():\n",
        "        for i in Node.nodes:\n",
        "            nodes = Node.nodes.copy()\n",
        "            nodes.remove(i)\n",
        "            for n in NODE.edge[i]:\n",
        "                nodes.append(n)\n",
        "            DFS(NODE(i,Node.sheep,Node.wolf,nodes))\n",
        "    else:\n",
        "        pass\n",
        "    Node.Maxcheck()"
      ]
    },
    {
      "cell_type": "code",
      "source": [],
      "metadata": {
        "id": "26rMJAX9HurG"
      },
      "execution_count": null,
      "outputs": []
    }
  ]
}